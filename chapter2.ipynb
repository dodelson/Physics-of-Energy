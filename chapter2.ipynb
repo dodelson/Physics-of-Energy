{
 "cells": [
  {
   "cell_type": "code",
   "execution_count": 1,
   "metadata": {},
   "outputs": [
    {
     "name": "stdout",
     "output_type": "stream",
     "text": [
      "Per Capita Energy Use in MJ is 73000\n",
      "World Energy Use in EJ is 562.1\n",
      "Global Power Use in TW is 17.824074074074076\n",
      "Global Energy Consumption is then 156138.88888888888 TW-hours= 562100000.0 TJ\n",
      "World ElectricityConsumption in Quads is 75.07109004739337\n",
      "Compare to 38 Quads in US in Fig 1.2\n",
      "Electric Power then is 2.554838709677419 TW\n",
      "Over one year, the sun deposits 5.455728e+18  GJ of energy to the Earths atmosphere\n",
      "Per person this is 708536103.8961039  MJ per year\n",
      "This is 9705.974025974025 times larger than human energy use\n",
      "1 kcal/mol= 0.043423096606596094 eV per molecule\n"
     ]
    }
   ],
   "source": [
    "%run energy.ipynb"
   ]
  },
  {
   "cell_type": "code",
   "execution_count": 3,
   "metadata": {},
   "outputs": [
    {
     "name": "stdout",
     "output_type": "stream",
     "text": [
      "energy in 1 mole of argon: 600K-300K 3741.3 J\n"
     ]
    }
   ],
   "source": [
    "## Exercise 5.1\n",
    "## Difference in thermal energy between one mole of argon at 300K and 600K\n",
    "mole = 6.022e23\n",
    "R=8.314 #J/mol/K\n",
    "con=R*1.5\n",
    "print('energy in 1 mole of argon: 600K-300K',con*300,'J')"
   ]
  },
  {
   "cell_type": "code",
   "execution_count": 3,
   "metadata": {},
   "outputs": [
    {
     "name": "stdout",
     "output_type": "stream",
     "text": [
      "Each one of those has 6 Carbon atoms. Estimate that the binding energy is 6 times the carbon binding energy.\n",
      "That leads to an energy per molecule of 66.96000000000001 eV= 1.07136e-17 J\n",
      "So, the total energy in all those molecules is roughly 241.04526474706694 MJ\n"
     ]
    }
   ],
   "source": [
    "## Exercise 5.3\n",
    "# water starts at 283K and gets heated by 30K. Amonut of water is 9.5L/min. \n",
    "v=9.5*8 # min\n"
   ]
  },
  {
   "cell_type": "markdown",
   "metadata": {},
   "source": [
    "That is too high by a factor of 2, so the binding energy is a complex calcultion, for which 10 eV per carbon atom is good only to the factor of 2 level. A better guess is 5 eV per molecule or about 100 kcal/mol."
   ]
  },
  {
   "cell_type": "code",
   "execution_count": 2,
   "metadata": {},
   "outputs": [
    {
     "name": "stdout",
     "output_type": "stream",
     "text": [
      "Kinetic Energy is 0.6531356591999999 MJ\n"
     ]
    }
   ],
   "source": [
    "#Kinetic energy of car:\n",
    "mph = .447 #m/s\n",
    "pounds = .454 #kg\n",
    "v = 60*mph\n",
    "m = 4000*pounds\n",
    "print('Kinetic Energy is',0.5*m*v**2/1.e6, 'MJ')"
   ]
  },
  {
   "cell_type": "code",
   "execution_count": 6,
   "metadata": {},
   "outputs": [
    {
     "name": "stdout",
     "output_type": "stream",
     "text": [
      "Potential energy gained (and lost) per mile is of order 0.2669520000000001 MJ\n",
      "Total potential energy 56.05992000000001 MJ\n"
     ]
    }
   ],
   "source": [
    "# Potential Energy gain, assume 15 m elevation gain per mile\n",
    "h=15.\n",
    "g=9.8\n",
    "potential = m*g*h\n",
    "print('Potential energy gained (and lost) per mile is of order',potential/1.e6,'MJ')\n",
    "print('Total potential energy',210*potential/1.e6,'MJ')"
   ]
  },
  {
   "cell_type": "code",
   "execution_count": 8,
   "metadata": {},
   "outputs": [
    {
     "name": "stdout",
     "output_type": "stream",
     "text": [
      "129.96116684133108\n"
     ]
    }
   ],
   "source": [
    "## Air resistance\n",
    "miles=1609.34\n",
    "D= 210*miles\n",
    "A = 2.7\n",
    "rho = 1.2 # kg/m^3 for air\n",
    "deltaE = .5*rho*A*D*v**2*.33\n",
    "print(deltaE/1.e6)"
   ]
  },
  {
   "cell_type": "code",
   "execution_count": null,
   "metadata": {},
   "outputs": [],
   "source": []
  }
 ],
 "metadata": {
  "kernelspec": {
   "display_name": "Python 3",
   "language": "python",
   "name": "python3"
  },
  "language_info": {
   "codemirror_mode": {
    "name": "ipython",
    "version": 3
   },
   "file_extension": ".py",
   "mimetype": "text/x-python",
   "name": "python",
   "nbconvert_exporter": "python",
   "pygments_lexer": "ipython3",
   "version": "3.6.2"
  }
 },
 "nbformat": 4,
 "nbformat_minor": 2
}
