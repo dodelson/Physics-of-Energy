{
 "cells": [
  {
   "cell_type": "code",
   "execution_count": 1,
   "id": "frequent-lottery",
   "metadata": {},
   "outputs": [
    {
     "name": "stdout",
     "output_type": "stream",
     "text": [
      "Per Capita Energy Use in MJ is 73000\n",
      "World Energy Use in EJ is 562.1\n",
      "Global Power Use in TW is 17.824074074074076\n",
      "Global Energy Consumption is then 156138.88888888888 TW-hours= 562100000.0 TJ\n",
      "World ElectricityConsumption in Quads is 75.07109004739337\n",
      "Compare to 38 Quads in US in Fig 1.2\n",
      "Electric Power then is 2.554838709677419 TW\n",
      "Over one year, the sun deposits 5.455728e+18  GJ of energy to the Earths atmosphere\n",
      "Per person this is 708536103.8961039  MJ per year\n",
      "This is 9705.974025974025 times larger than human energy use\n",
      "1 kcal/mol= 0.043423096606596094 eV per molecule\n"
     ]
    }
   ],
   "source": [
    "%run energy.ipynb"
   ]
  },
  {
   "cell_type": "code",
   "execution_count": 7,
   "id": "usual-poetry",
   "metadata": {},
   "outputs": [
    {
     "name": "stdout",
     "output_type": "stream",
     "text": [
      "1.741870171571927e+17\n",
      "A naive model gives the temperature of the Earth to be 278.5812689476053 K= 5.431268947605304 C\n"
     ]
    }
   ],
   "source": [
    "rearth=6.371e6 #m\n",
    "solar_radiation=1366 #w/m^2\n",
    "absorbed_radiation=solar_radiation*np.pi*rearth**2\n",
    "print(absorbed_radiation) #J/s\n",
    "sigma= 5.67e-8 # W/m^2K^4\n",
    "## This must equal the radiative energy emitted by the Earth with temperature T: 4\\pi R_E^2 \\sigma T^4\n",
    "## T = (solar_radiation/4\\sigma)^{1/4}\n",
    "naiveT=(solar_radiation*.25/sigma)**.25\n",
    "print('A naive model gives the temperature of the Earth to be',naiveT,'K=',naiveT-273.15,'C')"
   ]
  },
  {
   "cell_type": "code",
   "execution_count": 8,
   "id": "possible-adult",
   "metadata": {},
   "outputs": [
    {
     "name": "stdout",
     "output_type": "stream",
     "text": [
      "v2.0 gives the temperature of the Earth to be 254.81584054796193 K= -18.33415945203805 C\n"
     ]
    }
   ],
   "source": [
    "asun=0.3\n",
    "v2=naiveT*(1.-asun)**.25\n",
    "print('v2.0 gives the temperature of the Earth to be',v2,'K=',v2-273.15,'C')"
   ]
  },
  {
   "cell_type": "code",
   "execution_count": 11,
   "id": "removable-sewing",
   "metadata": {},
   "outputs": [
    {
     "name": "stdout",
     "output_type": "stream",
     "text": [
      "v3 gives the temperature of the Earth to be 303.02881059503517 K= 29.87881059503519 C\n",
      "This is the greenhouse effect: radiation from the Earth is trapped and serves to heat it.\n"
     ]
    }
   ],
   "source": [
    "#v3\n",
    "\n",
    "#4\\pi R_\\Earth^2 \\left[ (1-a_\\Earth) I_\\Sun/4 + \\sigma T_{atm}^4 \\right]\n",
    "#= 4\\pi R_\\Earth^2 \\sigma T_\\Earth^4\n",
    "#T_\\Earth^4 = 2T_{atm}^4\n",
    "\n",
    "v3=((1.-asun)*solar_radiation*.25/(sigma*(1.-.5)))**.25\n",
    "print('v3 gives the temperature of the Earth to be',v3,'K=',v3-273.15,'C')\n",
    "print('This is the greenhouse effect: radiation from the Earth is trapped and serves to heat it.')\n"
   ]
  },
  {
   "cell_type": "code",
   "execution_count": null,
   "id": "collaborative-trash",
   "metadata": {},
   "outputs": [],
   "source": []
  }
 ],
 "metadata": {
  "kernelspec": {
   "display_name": "Python 3",
   "language": "python",
   "name": "python3"
  },
  "language_info": {
   "codemirror_mode": {
    "name": "ipython",
    "version": 3
   },
   "file_extension": ".py",
   "mimetype": "text/x-python",
   "name": "python",
   "nbconvert_exporter": "python",
   "pygments_lexer": "ipython3",
   "version": "3.8.2"
  }
 },
 "nbformat": 4,
 "nbformat_minor": 5
}
