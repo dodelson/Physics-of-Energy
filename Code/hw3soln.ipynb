{
 "cells": [
  {
   "cell_type": "code",
   "execution_count": 1,
   "id": "wrapped-relative",
   "metadata": {},
   "outputs": [],
   "source": [
    "import numpy as np\n",
    "import matplotlib.pyplot as plt\n",
    "import pandas as pd"
   ]
  },
  {
   "cell_type": "code",
   "execution_count": 4,
   "id": "brutal-geometry",
   "metadata": {},
   "outputs": [],
   "source": [
    "co2=pd.read_csv('../data/owid-co2-data.csv')"
   ]
  },
  {
   "cell_type": "code",
   "execution_count": 10,
   "id": "eight-martin",
   "metadata": {},
   "outputs": [],
   "source": [
    "co2world=co2[co2['country']=='World']\n",
    "emit=co2world['co2'].values/3.664/1.e3 # in GtC"
   ]
  },
  {
   "cell_type": "code",
   "execution_count": 12,
   "id": "removable-paintball",
   "metadata": {},
   "outputs": [
    {
     "name": "stdout",
     "output_type": "stream",
     "text": [
      "Expected emissions over the next 50 years is 497.2896834061135 GtC\n"
     ]
    }
   ],
   "source": [
    "last_emissions=emit[-1]\n",
    "print('Expected emissions over the next 50 years is',50*last_emissions,'GtC')"
   ]
  }
 ],
 "metadata": {
  "kernelspec": {
   "display_name": "Python 3 (ipykernel)",
   "language": "python",
   "name": "python3"
  },
  "language_info": {
   "codemirror_mode": {
    "name": "ipython",
    "version": 3
   },
   "file_extension": ".py",
   "mimetype": "text/x-python",
   "name": "python",
   "nbconvert_exporter": "python",
   "pygments_lexer": "ipython3",
   "version": "3.9.5"
  }
 },
 "nbformat": 4,
 "nbformat_minor": 5
}
