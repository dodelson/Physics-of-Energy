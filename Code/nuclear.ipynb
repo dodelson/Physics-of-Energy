{
 "cells": [
  {
   "cell_type": "code",
   "execution_count": 1,
   "id": "a1be922f",
   "metadata": {},
   "outputs": [],
   "source": [
    "import numpy as np\n",
    "import matplotlib.pyplot as plt\n",
    "from scipy import integrate"
   ]
  },
  {
   "cell_type": "code",
   "execution_count": 7,
   "id": "820cd4ac",
   "metadata": {},
   "outputs": [],
   "source": [
    "hbarc=1.97e-7 #ev-m\n",
    "rho = 1./1.e-15 ## nucleon/m\n",
    "M=1.e9 #eV\n",
    "### Box 17.2\n",
    "Ev = hbarc**2*np.pi**2*rho**2/(96*M)"
   ]
  },
  {
   "cell_type": "code",
   "execution_count": 8,
   "id": "a600d1c1",
   "metadata": {},
   "outputs": [
    {
     "name": "stdout",
     "output_type": "stream",
     "text": [
      "3.98989038751955\n"
     ]
    }
   ],
   "source": [
    "print(Ev/1.e6)"
   ]
  },
  {
   "cell_type": "code",
   "execution_count": null,
   "id": "64172eee",
   "metadata": {},
   "outputs": [],
   "source": []
  }
 ],
 "metadata": {
  "kernelspec": {
   "display_name": "Python 3 (ipykernel)",
   "language": "python",
   "name": "python3"
  },
  "language_info": {
   "codemirror_mode": {
    "name": "ipython",
    "version": 3
   },
   "file_extension": ".py",
   "mimetype": "text/x-python",
   "name": "python",
   "nbconvert_exporter": "python",
   "pygments_lexer": "ipython3",
   "version": "3.9.5"
  }
 },
 "nbformat": 4,
 "nbformat_minor": 5
}
