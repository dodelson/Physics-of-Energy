{
 "cells": [
  {
   "cell_type": "code",
   "execution_count": 1,
   "id": "wrapped-relative",
   "metadata": {},
   "outputs": [],
   "source": [
    "import numpy as np\n",
    "import matplotlib.pyplot as plt\n",
    "import pandas as pd"
   ]
  },
  {
   "cell_type": "code",
   "execution_count": 2,
   "id": "brutal-geometry",
   "metadata": {},
   "outputs": [],
   "source": [
    "co2=pd.read_csv('../Data/owid-co2-data.csv')\n"
   ]
  },
  {
   "cell_type": "code",
   "execution_count": 3,
   "id": "eight-martin",
   "metadata": {},
   "outputs": [],
   "source": [
    "co2us=co2[co2['country']=='United States']"
   ]
  },
  {
   "cell_type": "code",
   "execution_count": 19,
   "id": "removable-paintball",
   "metadata": {},
   "outputs": [
    {
     "name": "stdout",
     "output_type": "stream",
     "text": [
      "2016 5292.268 17200000000000.0 323016000.0 79665.59\n"
     ]
    }
   ],
   "source": [
    "yr=co2us['year'].values\n",
    "emit=co2us['co2'].values\n",
    "gdp=co2us['gdp'].values\n",
    "population=co2us['population'].values\n",
    "epc=co2us['energy_per_capita'].values\n",
    "print(yr[-4],emit[-4],gdp[-4],population[-4],epc[-4])"
   ]
  },
  {
   "cell_type": "markdown",
   "id": "59760ea5",
   "metadata": {},
   "source": [
    "This is for 2016. The emissions are MegaTonnes of $CO_2$. To get this into grams of carbon, note that $1MT=10^9kg=10^{12}$g so the emissions are $5292*10^{12}$gm of $CO_2$. To get to carbon divide by 3.664 to get"
   ]
  },
  {
   "cell_type": "code",
   "execution_count": 20,
   "id": "applicable-security",
   "metadata": {},
   "outputs": [
    {
     "data": {
      "text/plain": [
       "1444323144104803.5"
      ]
     },
     "execution_count": 20,
     "metadata": {},
     "output_type": "execute_result"
    }
   ],
   "source": [
    "5292*1.e12/3.664"
   ]
  },
  {
   "cell_type": "markdown",
   "id": "2cbd02d1",
   "metadata": {},
   "source": [
    "To get energy used, multiply epc [which is in kilowatt-hours] by the population: "
   ]
  },
  {
   "cell_type": "code",
   "execution_count": 21,
   "id": "41ba4d6e",
   "metadata": {},
   "outputs": [
    {
     "data": {
      "text/plain": [
       "25733392656000.0"
      ]
     },
     "execution_count": 21,
     "metadata": {},
     "output_type": "execute_result"
    }
   ],
   "source": [
    "79666*323016000.0"
   ]
  },
  {
   "cell_type": "code",
   "execution_count": 24,
   "id": "56f17d35",
   "metadata": {},
   "outputs": [
    {
     "name": "stdout",
     "output_type": "stream",
     "text": [
      "92640213561600.0 MJ\n"
     ]
    }
   ],
   "source": [
    "#Now  1 kW-hour=3600.*1.e-3MJ, so in MJ this is\n",
    "print(79666*323016000.0*3600*1.e-3,'MJ')"
   ]
  },
  {
   "cell_type": "code",
   "execution_count": 25,
   "id": "aaee22eb",
   "metadata": {},
   "outputs": [
    {
     "name": "stdout",
     "output_type": "stream",
     "text": [
      "The intensity in units of gC/MJ is therefore:\n",
      "15.590671573143753\n"
     ]
    }
   ],
   "source": [
    "print('The intensity in units of gC/MJ is therefore:')\n",
    "print(1444323144104803.5/92640213561600.0)"
   ]
  },
  {
   "cell_type": "code",
   "execution_count": null,
   "id": "exciting-nothing",
   "metadata": {},
   "outputs": [],
   "source": []
  }
 ],
 "metadata": {
  "kernelspec": {
   "display_name": "Python 3 (ipykernel)",
   "language": "python",
   "name": "python3"
  },
  "language_info": {
   "codemirror_mode": {
    "name": "ipython",
    "version": 3
   },
   "file_extension": ".py",
   "mimetype": "text/x-python",
   "name": "python",
   "nbconvert_exporter": "python",
   "pygments_lexer": "ipython3",
   "version": "3.9.5"
  }
 },
 "nbformat": 4,
 "nbformat_minor": 5
}
