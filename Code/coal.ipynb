{
 "cells": [
  {
   "cell_type": "code",
   "execution_count": 3,
   "metadata": {},
   "outputs": [
    {
     "name": "stdout",
     "output_type": "stream",
     "text": [
      "Per Capita Energy Use in MJ is 73000\n",
      "World Energy Use in EJ is 562.1\n",
      "Global Power Use in TW is 17.824074074074076\n",
      "Global Energy Consumption is then 156138.88888888888 TW-hours\n",
      "World ElectricityConsumption in Quads is 75.07109004739337\n",
      "Compare to 38 Quads in US in Fig 1.2\n",
      "Electric Power then is 2.554838709677419 TW\n",
      "Over one year, the sun deposits 5.455728e+18  GJ of energy to the Earths atmosphere\n",
      "Per person this is 708536103.8961039  MJ per year\n",
      "This is 9705.974025974025 times larger than human energy use\n"
     ]
    }
   ],
   "source": [
    "%run energy.ipynb"
   ]
  },
  {
   "cell_type": "code",
   "execution_count": 34,
   "metadata": {},
   "outputs": [
    {
     "name": "stdout",
     "output_type": "stream",
     "text": [
      "One gram of carbon contains 0.00562037037037037 MJ= 5.62037037037037 kJ\n",
      "that is for smaller molecules. For coal, perhaps the number is larger\n",
      "The heat per mol from coal is 4244.4 kJ= 1014.4359464627149 kcal\n",
      "So, even though the binding energy of carbohydrates is about 100 kcal, the binding energy of coal is about ten times that, or maybe the energy released when burning coal comes not just from the carbon bonds but from the rest of the reactants or maybe the carbon bonds are not the main thing in coal\n",
      "Burning one gram of coal leads to 39.3 kJ\n",
      "Burning one tonne of coal leads to 39300000.0 kJ = 39.3 GJ\n"
     ]
    }
   ],
   "source": [
    "## energy per gram of coal\n",
    "## Roughly it is held together by carbon bonds.\n",
    "kcal = 4184 # Joules\n",
    "grams_per_mole_coal=108.\n",
    "## Per https://en.wikipedia.org/wiki/Carbon%E2%80%93carbon_bond, the rough binding energy per mole is \n",
    "C_bond_mole=607.e3 #kJ #https://labs.chem.ucsb.edu/zakarian/armen/11---bonddissociationenergy.pdf\n",
    "C_bond_gm=C_bond_mole/grams_per_mole_coal # 108 is the number of grams per mole of coal\n",
    "print('One gram of carbon contains', C_bond_gm/1.e6, 'MJ=',C_bond_gm/1.e3,'kJ')\n",
    "print('that is for smaller molecules. For coal, perhaps the number is larger')\n",
    "coal_burn_gram=39.3 #kJ, https://people.wou.edu/~courtna/GS361/Energy_From_Fossil_Fuels.htm\n",
    "print('The heat per mol from coal is',coal_burn_gram*grams_per_mole_coal,'kJ=',coal_burn_gram*grams_per_mole_coal/4.184,'kcal')\n",
    "print('So, even though the binding energy of carbohydrates is about 100 kcal, the binding energy of coal is about ten times that, or maybe the energy released when burning coal comes not just from the carbon bonds but from the rest of the reactants or maybe the carbon bonds are not the main thing in coal')\n",
    "print('Burning one gram of coal leads to',coal_burn_gram, 'kJ')\n",
    "print('Burning one tonne of coal leads to',1.e6*coal_burn_gram, 'kJ =', coal_burn_gram, 'GJ')"
   ]
  },
  {
   "cell_type": "code",
   "execution_count": 31,
   "metadata": {},
   "outputs": [
    {
     "name": "stdout",
     "output_type": "stream",
     "text": [
      "One mole of carbon has bond energy of 1.0753134541056 MJ\n"
     ]
    }
   ],
   "source": [
    "# Simple estimate\n",
    "carbon_bond = 11.16 #eV\n",
    "avogadro=6.02214076e23\n",
    "ev=1.6e-19#J\n",
    "carbon_bond*=ev\n",
    "carbon_bond*=avogadro\n",
    "print('One mole of carbon has bond energy of', carbon_bond/1.e6,'MJ')\n"
   ]
  },
  {
   "cell_type": "code",
   "execution_count": null,
   "metadata": {},
   "outputs": [],
   "source": []
  }
 ],
 "metadata": {
  "kernelspec": {
   "display_name": "Python 3",
   "language": "python",
   "name": "python3"
  },
  "language_info": {
   "codemirror_mode": {
    "name": "ipython",
    "version": 3
   },
   "file_extension": ".py",
   "mimetype": "text/x-python",
   "name": "python",
   "nbconvert_exporter": "python",
   "pygments_lexer": "ipython3",
   "version": "3.6.2"
  }
 },
 "nbformat": 4,
 "nbformat_minor": 2
}
