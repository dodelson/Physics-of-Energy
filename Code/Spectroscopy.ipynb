{
 "cells": [
  {
   "cell_type": "code",
   "execution_count": 1,
   "id": "a70007e0",
   "metadata": {},
   "outputs": [],
   "source": [
    "import numpy as np\n",
    "import matplotlib.pyplot as plt"
   ]
  },
  {
   "cell_type": "code",
   "execution_count": 7,
   "id": "d6acded8",
   "metadata": {},
   "outputs": [
    {
     "name": "stdout",
     "output_type": "stream",
     "text": [
      "2.951712328767123e-21\n"
     ]
    }
   ],
   "source": [
    "# Consider CO as in Neil's doc\n",
    "I=8.76*1.7e-47 #kg-m^2\n",
    "hbar= 6.63e-34 #J -s\n",
    "e1=(hbar**2)/I\n",
    "print(e1)"
   ]
  },
  {
   "cell_type": "code",
   "execution_count": 10,
   "id": "ebd077a8",
   "metadata": {},
   "outputs": [
    {
     "name": "stdout",
     "output_type": "stream",
     "text": [
      "23.630864089811823\n"
     ]
    }
   ],
   "source": [
    "hc=2*3.14*hbar*3.e8\n",
    "nutilde=e1/hc\n",
    "print(nutilde/100)# so it's in cm^{-1}"
   ]
  },
  {
   "cell_type": "code",
   "execution_count": 12,
   "id": "077b468a",
   "metadata": {},
   "outputs": [
    {
     "name": "stdout",
     "output_type": "stream",
     "text": [
      "103.50318471337579\n"
     ]
    }
   ],
   "source": [
    "I=1.7e-47 #kg-m^2\n",
    "B=hbar/(4*3.14*3.e8*I)/100 # in cm^{-1}\n",
    "print(B)"
   ]
  },
  {
   "cell_type": "code",
   "execution_count": 14,
   "id": "00eb2a5c",
   "metadata": {},
   "outputs": [
    {
     "name": "stdout",
     "output_type": "stream",
     "text": [
      "1.7595541401273884e-43\n"
     ]
    }
   ],
   "source": [
    "print(hbar/(4*3.14*3.e8))"
   ]
  },
  {
   "cell_type": "code",
   "execution_count": 15,
   "id": "5038b9a6",
   "metadata": {},
   "outputs": [
    {
     "data": {
      "text/plain": [
       "0.15909090909090912"
      ]
     },
     "execution_count": 15,
     "metadata": {},
     "output_type": "execute_result"
    }
   ],
   "source": [
    ".28/1.76"
   ]
  },
  {
   "cell_type": "code",
   "execution_count": 16,
   "id": "be697184",
   "metadata": {},
   "outputs": [
    {
     "data": {
      "text/plain": [
       "16.456500000000002"
      ]
     },
     "execution_count": 16,
     "metadata": {},
     "output_type": "execute_result"
    }
   ],
   "source": [
    ".159*103.5"
   ]
  },
  {
   "cell_type": "code",
   "execution_count": 19,
   "id": "7b0d0335",
   "metadata": {},
   "outputs": [
    {
     "data": {
      "text/plain": [
       "1.5158883495145632"
      ]
     },
     "execution_count": 19,
     "metadata": {},
     "output_type": "execute_result"
    }
   ],
   "source": [
    "1.e2*2*3.14*hbar*3.e8/8.24e-23"
   ]
  },
  {
   "cell_type": "code",
   "execution_count": 20,
   "id": "71d0d737",
   "metadata": {},
   "outputs": [
    {
     "name": "stdout",
     "output_type": "stream",
     "text": [
      "8.32728e-20\n"
     ]
    }
   ],
   "source": [
    "#energy corresponding to 15 microns:\n",
    "c=3.e8\n",
    "nu=c/15.e-6\n",
    "e=2*3.14*hbar*nu\n",
    "print(e)"
   ]
  },
  {
   "cell_type": "code",
   "execution_count": 22,
   "id": "9e2bab14",
   "metadata": {},
   "outputs": [
    {
     "data": {
      "text/plain": [
       "666.6666666666666"
      ]
     },
     "execution_count": 22,
     "metadata": {},
     "output_type": "execute_result"
    }
   ],
   "source": [
    "1./15.e-4"
   ]
  },
  {
   "cell_type": "code",
   "execution_count": null,
   "id": "3a978b8b",
   "metadata": {},
   "outputs": [],
   "source": []
  }
 ],
 "metadata": {
  "kernelspec": {
   "display_name": "Python 3 (ipykernel)",
   "language": "python",
   "name": "python3"
  },
  "language_info": {
   "codemirror_mode": {
    "name": "ipython",
    "version": 3
   },
   "file_extension": ".py",
   "mimetype": "text/x-python",
   "name": "python",
   "nbconvert_exporter": "python",
   "pygments_lexer": "ipython3",
   "version": "3.9.5"
  }
 },
 "nbformat": 4,
 "nbformat_minor": 5
}
