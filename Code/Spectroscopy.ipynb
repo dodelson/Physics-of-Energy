{
 "cells": [
  {
   "cell_type": "code",
   "execution_count": 1,
   "id": "a70007e0",
   "metadata": {},
   "outputs": [],
   "source": [
    "import numpy as np\n",
    "import matplotlib.pyplot as plt"
   ]
  },
  {
   "cell_type": "code",
   "execution_count": 2,
   "id": "d6acded8",
   "metadata": {},
   "outputs": [
    {
     "name": "stdout",
     "output_type": "stream",
     "text": [
      "2.951712328767123e-21\n"
     ]
    }
   ],
   "source": [
    "# Consider CO as in Neil's doc\n",
    "I=8.76*1.7e-47 #kg-m^2\n",
    "hbar= 6.63e-34 #J -s\n",
    "e1=(hbar**2)/I\n",
    "print(e1)"
   ]
  },
  {
   "cell_type": "code",
   "execution_count": 3,
   "id": "ebd077a8",
   "metadata": {},
   "outputs": [
    {
     "name": "stdout",
     "output_type": "stream",
     "text": [
      "23.630864089811823\n"
     ]
    }
   ],
   "source": [
    "hc=2*3.14*hbar*3.e8\n",
    "nutilde=e1/hc\n",
    "print(nutilde/100)# so it's in cm^{-1}"
   ]
  },
  {
   "cell_type": "code",
   "execution_count": 4,
   "id": "077b468a",
   "metadata": {},
   "outputs": [
    {
     "name": "stdout",
     "output_type": "stream",
     "text": [
      "103.50318471337579\n"
     ]
    }
   ],
   "source": [
    "I=1.7e-47 #kg-m^2\n",
    "B=hbar/(4*3.14*3.e8*I)/100 # in cm^{-1}\n",
    "print(B)"
   ]
  },
  {
   "cell_type": "code",
   "execution_count": 5,
   "id": "00eb2a5c",
   "metadata": {},
   "outputs": [
    {
     "name": "stdout",
     "output_type": "stream",
     "text": [
      "1.7595541401273884e-43\n"
     ]
    }
   ],
   "source": [
    "print(hbar/(4*3.14*3.e8))"
   ]
  },
  {
   "cell_type": "code",
   "execution_count": 6,
   "id": "5038b9a6",
   "metadata": {},
   "outputs": [
    {
     "data": {
      "text/plain": [
       "0.15909090909090912"
      ]
     },
     "execution_count": 6,
     "metadata": {},
     "output_type": "execute_result"
    }
   ],
   "source": [
    ".28/1.76"
   ]
  },
  {
   "cell_type": "code",
   "execution_count": 7,
   "id": "be697184",
   "metadata": {},
   "outputs": [
    {
     "data": {
      "text/plain": [
       "16.456500000000002"
      ]
     },
     "execution_count": 7,
     "metadata": {},
     "output_type": "execute_result"
    }
   ],
   "source": [
    ".159*103.5"
   ]
  },
  {
   "cell_type": "code",
   "execution_count": 8,
   "id": "7b0d0335",
   "metadata": {},
   "outputs": [
    {
     "data": {
      "text/plain": [
       "1.5158883495145632"
      ]
     },
     "execution_count": 8,
     "metadata": {},
     "output_type": "execute_result"
    }
   ],
   "source": [
    "1.e2*2*3.14*hbar*3.e8/8.24e-23"
   ]
  },
  {
   "cell_type": "code",
   "execution_count": 9,
   "id": "71d0d737",
   "metadata": {},
   "outputs": [
    {
     "name": "stdout",
     "output_type": "stream",
     "text": [
      "8.32728e-20\n"
     ]
    }
   ],
   "source": [
    "#energy corresponding to 15 microns:\n",
    "c=3.e8\n",
    "nu=c/15.e-6\n",
    "e=2*3.14*hbar*nu\n",
    "print(e)"
   ]
  },
  {
   "cell_type": "code",
   "execution_count": 10,
   "id": "9e2bab14",
   "metadata": {},
   "outputs": [],
   "source": [
    "vib=667.5 # cm^{-1}\n",
    "r=0.089 # cm\n",
    "s0=3.71e-19*1.e-4 # m^2\n",
    "micron=1.e4\n",
    "def sigma(wavel):  #wavelength in microns\n",
    "    k=micron/wavel\n",
    "    sigma = s0*np.exp(-r*np.abs(k-vib))\n",
    "    return sigma"
   ]
  },
  {
   "cell_type": "code",
   "execution_count": 12,
   "id": "3a978b8b",
   "metadata": {},
   "outputs": [
    {
     "data": {
      "image/png": "[encoded data removed]",
      "text/plain": [
       "<Figure size 432x288 with 1 Axes>"
      ]
     },
     "metadata": {
      "needs_background": "light"
     },
     "output_type": "display_data"
    }
   ],
   "source": [
    "B=0.39 #cm^{-1} https://cccbdb.nist.gov/exp2x.asp?casno=124389\n",
    "T = 280/11605. #eV\n",
    "def rot(J):\n",
    "    return J*(J+1)*B\n",
    "lines=[]\n",
    "height=[]\n",
    "for j in range(100):\n",
    "    argexp=rot(j)*2*3.14*1.97e-5/T\n",
    "    boltz=np.exp(-argexp)#2*j+1)*\n",
    "    linediff=rot(j+1)-rot(j)\n",
    "    lines.append(vib+linediff)\n",
    "    height.append(boltz)\n",
    "## j-1 --> j\n",
    "    if j >= 1:\n",
    "        linediff=rot(j-1)-rot(j)\n",
    "        lines.append(vib+linediff)\n",
    "        argexp=rot(j-1)*2*3.14*1.97e-5/T\n",
    "        boltz=np.exp(-argexp)#(2*(j-1)+1)*\n",
    "        height.append(boltz)\n",
    "height=np.array(height)\n",
    "lines=np.array(lines)\n",
    "lines=15*vib/lines\n",
    "wavel=np.arange(13,17.,.01)\n",
    "plt.scatter(lines,height*s0/height[0])\n",
    "#plt.yscale('log')\n",
    "plt.xlabel('Wavelength (microns)')\n",
    "plt.ylabel('Cross Section (m$^2$)')\n",
    "plt.plot(wavel,sigma(wavel))\n",
    "plt.axis([13,17,0,5.e-23])\n",
    "plt.savefig('../Figures/co2cross.png')"
   ]
  },
  {
   "cell_type": "code",
   "execution_count": 45,
   "id": "ae1ec661",
   "metadata": {},
   "outputs": [
    {
     "name": "stdout",
     "output_type": "stream",
     "text": [
      "4.824924e-05 0.00149812734082397\n"
     ]
    }
   ],
   "source": []
  },
  {
   "cell_type": "markdown",
   "id": "1b097954",
   "metadata": {},
   "source": [
    "Find s0 such that the optical depth at 13.5 microns is equal to unity, as suggested by 34.13"
   ]
  },
  {
   "cell_type": "code",
   "execution_count": 13,
   "id": "8394f637",
   "metadata": {},
   "outputs": [
    {
     "name": "stdout",
     "output_type": "stream",
     "text": [
      "757.5757575757576\n",
      "0.00012825328257549606 0.00011764705882352942\n"
     ]
    }
   ],
   "source": [
    "H=8.5e3 #m\n",
    "n = 420.e-6*1.25/(30.*1.67e-27)  #m^{-3}\n",
    "k=1./13.2e-4  ## cm^{-1}\n",
    "print(k)\n",
    "sigma = s0*np.exp(-r*np.abs(k-vib))  #m^2\n",
    "tau=n*sigma  # m^{-1}\n",
    "kappa1 = 1./H \n",
    "print(tau,kappa1)\n"
   ]
  },
  {
   "cell_type": "code",
   "execution_count": 18,
   "id": "d9d3f3f2",
   "metadata": {
    "scrolled": true
   },
   "outputs": [
    {
     "data": {
      "image/png": "[encoded data removed]",
      "text/plain": [
       "<Figure size 432x288 with 1 Axes>"
      ]
     },
     "metadata": {
      "needs_background": "light"
     },
     "output_type": "display_data"
    }
   ],
   "source": [
    "k=np.arange(560,780,.1)\n",
    "sigma = s0*np.exp(-r*np.abs(k-vib))\n",
    "tau=n*sigma\n",
    "plt.plot(1.e4/k,tau*1.e3)\n",
    "plt.plot([10,20],[1.,1])\n",
    "plt.yscale('log')\n",
    "plt.xlabel('wavelength (microns)')\n",
    "plt.ylabel('Optical Depth')\n",
    "plt.savefig('../Figures/opticaldepth.png')"
   ]
  },
  {
   "cell_type": "code",
   "execution_count": null,
   "id": "1f24e89c",
   "metadata": {},
   "outputs": [],
   "source": []
  }
 ],
 "metadata": {
  "kernelspec": {
   "display_name": "Python 3 (ipykernel)",
   "language": "python",
   "name": "python3"
  },
  "language_info": {
   "codemirror_mode": {
    "name": "ipython",
    "version": 3
   },
   "file_extension": ".py",
   "mimetype": "text/x-python",
   "name": "python",
   "nbconvert_exporter": "python",
   "pygments_lexer": "ipython3",
   "version": "3.9.5"
  }
 },
 "nbformat": 4,
 "nbformat_minor": 5
}
