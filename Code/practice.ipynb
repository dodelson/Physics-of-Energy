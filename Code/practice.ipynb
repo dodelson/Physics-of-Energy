{
 "cells": [
  {
   "cell_type": "code",
   "execution_count": 1,
   "id": "7a67d992",
   "metadata": {},
   "outputs": [],
   "source": [
    "import numpy as np\n",
    "import matplotlib.pyplot as plt\n"
   ]
  },
  {
   "cell_type": "code",
   "execution_count": 3,
   "id": "9b691ffb",
   "metadata": {},
   "outputs": [
    {
     "data": {
      "text/plain": [
       "60.036323255999996"
      ]
     },
     "execution_count": 3,
     "metadata": {},
     "output_type": "execute_result"
    }
   ],
   "source": [
    "5.67e-8*(303**4-293**4)"
   ]
  },
  {
   "cell_type": "code",
   "execution_count": 5,
   "id": "f31615df",
   "metadata": {},
   "outputs": [
    {
     "data": {
      "text/plain": [
       "342.94678887547553"
      ]
     },
     "execution_count": 5,
     "metadata": {},
     "output_type": "execute_result"
    }
   ],
   "source": [
    "291/.72**.5"
   ]
  },
  {
   "cell_type": "code",
   "execution_count": 6,
   "id": "3742612c",
   "metadata": {},
   "outputs": [
    {
     "data": {
      "text/plain": [
       "0.848528137423857"
      ]
     },
     "execution_count": 6,
     "metadata": {},
     "output_type": "execute_result"
    }
   ],
   "source": [
    ".72**.5"
   ]
  },
  {
   "cell_type": "code",
   "execution_count": 7,
   "id": "bfdb7031",
   "metadata": {},
   "outputs": [
    {
     "data": {
      "text/plain": [
       "35.71428571428571"
      ]
     },
     "execution_count": 7,
     "metadata": {},
     "output_type": "execute_result"
    }
   ],
   "source": [
    "10/.28"
   ]
  },
  {
   "cell_type": "code",
   "execution_count": 8,
   "id": "2e7f49ba",
   "metadata": {},
   "outputs": [
    {
     "data": {
      "text/plain": [
       "175.0"
      ]
     },
     "execution_count": 8,
     "metadata": {},
     "output_type": "execute_result"
    }
   ],
   "source": [
    "10./.2+10./.08\n"
   ]
  },
  {
   "cell_type": "code",
   "execution_count": 9,
   "id": "54d2b9ed",
   "metadata": {},
   "outputs": [
    {
     "data": {
      "text/plain": [
       "14364.0"
      ]
     },
     "execution_count": 9,
     "metadata": {},
     "output_type": "execute_result"
    }
   ],
   "source": [
    "900*3.8*4.2"
   ]
  },
  {
   "cell_type": "code",
   "execution_count": 10,
   "id": "4322c8fa",
   "metadata": {},
   "outputs": [
    {
     "data": {
      "text/plain": [
       "0.024778030146603344"
      ]
     },
     "execution_count": 10,
     "metadata": {},
     "output_type": "execute_result"
    }
   ],
   "source": [
    "1.2/1.67/29\n"
   ]
  },
  {
   "cell_type": "code",
   "execution_count": 11,
   "id": "ff408f46",
   "metadata": {},
   "outputs": [
    {
     "data": {
      "text/plain": [
       "4.2134100000000005e+18"
      ]
     },
     "execution_count": 11,
     "metadata": {},
     "output_type": "execute_result"
    }
   ],
   "source": [
    "8.7e43*29*1.67e-27"
   ]
  },
  {
   "cell_type": "code",
   "execution_count": 1,
   "id": "2faa6e5c",
   "metadata": {},
   "outputs": [
    {
     "data": {
      "text/plain": [
       "2.7600000000000002e-22"
      ]
     },
     "execution_count": 1,
     "metadata": {},
     "output_type": "execute_result"
    }
   ],
   "source": [
    "# 1\n",
    "1.38e-23*20"
   ]
  },
  {
   "cell_type": "code",
   "execution_count": 3,
   "id": "e3d6bb97",
   "metadata": {},
   "outputs": [
    {
     "data": {
      "text/plain": [
       "283.43509020976137"
      ]
     },
     "execution_count": 3,
     "metadata": {},
     "output_type": "execute_result"
    }
   ],
   "source": [
    ".9**.25*291\n"
   ]
  },
  {
   "cell_type": "code",
   "execution_count": 4,
   "id": "33a603b2",
   "metadata": {},
   "outputs": [
    {
     "data": {
      "text/plain": [
       "0.016666666666666666"
      ]
     },
     "execution_count": 4,
     "metadata": {},
     "output_type": "execute_result"
    }
   ],
   "source": [
    "25*.6/900."
   ]
  },
  {
   "cell_type": "code",
   "execution_count": 9,
   "id": "a3673d99",
   "metadata": {},
   "outputs": [
    {
     "data": {
      "text/plain": [
       "1197604790419.1616"
      ]
     },
     "execution_count": 9,
     "metadata": {},
     "output_type": "execute_result"
    }
   ],
   "source": [
    "2.e10/.0167"
   ]
  },
  {
   "cell_type": "code",
   "execution_count": 10,
   "id": "33da78b9",
   "metadata": {},
   "outputs": [
    {
     "data": {
      "text/plain": [
       "20.04"
      ]
     },
     "execution_count": 10,
     "metadata": {},
     "output_type": "execute_result"
    }
   ],
   "source": [
    "1.67*12"
   ]
  },
  {
   "cell_type": "code",
   "execution_count": 11,
   "id": "c1713d61",
   "metadata": {},
   "outputs": [
    {
     "data": {
      "text/plain": [
       "5e+37"
      ]
     },
     "execution_count": 11,
     "metadata": {},
     "output_type": "execute_result"
    }
   ],
   "source": [
    "1.e12/2.e-26"
   ]
  },
  {
   "cell_type": "code",
   "execution_count": 12,
   "id": "73854c8d",
   "metadata": {},
   "outputs": [
    {
     "data": {
      "text/plain": [
       "1.0932224000000002e+44"
      ]
     },
     "execution_count": 12,
     "metadata": {},
     "output_type": "execute_result"
    }
   ],
   "source": [
    "(6.4e6)**2*2.5e25*4*3.14*8.5e3"
   ]
  },
  {
   "cell_type": "code",
   "execution_count": 13,
   "id": "c778118d",
   "metadata": {},
   "outputs": [
    {
     "data": {
      "text/plain": [
       "4.62e+40"
      ]
     },
     "execution_count": 13,
     "metadata": {},
     "output_type": "execute_result"
    }
   ],
   "source": [
    "1.1e44*4.2e-4"
   ]
  },
  {
   "cell_type": "code",
   "execution_count": 14,
   "id": "9d9bd5c7",
   "metadata": {},
   "outputs": [
    {
     "data": {
      "text/plain": [
       "924.0"
      ]
     },
     "execution_count": 14,
     "metadata": {},
     "output_type": "execute_result"
    }
   ],
   "source": [
    "4.62e40/5e37"
   ]
  },
  {
   "cell_type": "code",
   "execution_count": 15,
   "id": "a990893a",
   "metadata": {},
   "outputs": [
    {
     "data": {
      "text/plain": [
       "48.096000000000004"
      ]
     },
     "execution_count": 15,
     "metadata": {},
     "output_type": "execute_result"
    }
   ],
   "source": [
    "(.8*28+.2*32)*1.67"
   ]
  },
  {
   "cell_type": "code",
   "execution_count": 17,
   "id": "c0b85648",
   "metadata": {},
   "outputs": [
    {
     "data": {
      "text/plain": [
       "289.7391304347826"
      ]
     },
     "execution_count": 17,
     "metadata": {},
     "output_type": "execute_result"
    }
   ],
   "source": [
    "4.8e-26*9.8*8.5e3/1.38e-23"
   ]
  },
  {
   "cell_type": "code",
   "execution_count": null,
   "id": "3faa8fd8",
   "metadata": {},
   "outputs": [],
   "source": []
  }
 ],
 "metadata": {
  "kernelspec": {
   "display_name": "Python 3 (ipykernel)",
   "language": "python",
   "name": "python3"
  },
  "language_info": {
   "codemirror_mode": {
    "name": "ipython",
    "version": 3
   },
   "file_extension": ".py",
   "mimetype": "text/x-python",
   "name": "python",
   "nbconvert_exporter": "python",
   "pygments_lexer": "ipython3",
   "version": "3.9.5"
  }
 },
 "nbformat": 4,
 "nbformat_minor": 5
}
