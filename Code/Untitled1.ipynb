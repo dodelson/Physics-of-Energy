{
 "cells": [
  {
   "cell_type": "code",
   "execution_count": 29,
   "id": "8f114387",
   "metadata": {},
   "outputs": [],
   "source": [
    "import matplotlib.pyplot as plt\n",
    "en=[17,32,22,28,38,35,42,28,29,36,26,36,35,33,22,32,42,34,41,38,27,40]\n",
    "yr=range(2001,2023)\n"
   ]
  },
  {
   "cell_type": "code",
   "execution_count": 30,
   "id": "aeb7c46d",
   "metadata": {},
   "outputs": [],
   "source": [
    "import numpy as np\n",
    "m, b = np.polyfit(yr, en, 1)"
   ]
  },
  {
   "cell_type": "code",
   "execution_count": 31,
   "id": "94d55675",
   "metadata": {},
   "outputs": [
    {
     "name": "stdout",
     "output_type": "stream",
     "text": [
      "0.43760587238849846 -847.8351214003737\n",
      "-0.07142857142864911 180.50000000015683\n"
     ]
    },
    {
     "data": {
      "text/plain": [
       "[<matplotlib.lines.Line2D at 0x122bdbee0>]"
      ]
     },
     "execution_count": 31,
     "metadata": {},
     "output_type": "execute_result"
    },
    {
     "data": {
      "image/png": "[encoded data removed]",
      "text/plain": [
       "<Figure size 432x288 with 1 Axes>"
      ]
     },
     "metadata": {
      "needs_background": "light"
     },
     "output_type": "display_data"
    }
   ],
   "source": [
    "plt.scatter(yr,en)\n",
    "plt.xlabel('Year')\n",
    "plt.ylabel('MPL Enrollment')\n",
    "m, b = np.polyfit(yr, en, 1)\n",
    "print(m,b)\n",
    "plt.plot(yr,m*yr+b)\n",
    "plt.axis([2000,2023,0,45])\n",
    "n=7\n",
    "m, b = np.polyfit(yr[-n:], en[-n:], 1)\n",
    "print(m,b)\n",
    "plt.plot([2000,2022],[40,40])\n",
    "#plt.plot(yr[-n:],m*yr[-n:]+b)\n"
   ]
  },
  {
   "cell_type": "code",
   "execution_count": null,
   "id": "2f564593",
   "metadata": {},
   "outputs": [],
   "source": []
  },
  {
   "cell_type": "code",
   "execution_count": null,
   "id": "04a3c701",
   "metadata": {},
   "outputs": [],
   "source": []
  }
 ],
 "metadata": {
  "kernelspec": {
   "display_name": "Python 3 (ipykernel)",
   "language": "python",
   "name": "python3"
  },
  "language_info": {
   "codemirror_mode": {
    "name": "ipython",
    "version": 3
   },
   "file_extension": ".py",
   "mimetype": "text/x-python",
   "name": "python",
   "nbconvert_exporter": "python",
   "pygments_lexer": "ipython3",
   "version": "3.9.5"
  }
 },
 "nbformat": 4,
 "nbformat_minor": 5
}
