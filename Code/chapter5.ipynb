{
 "cells": [
  {
   "cell_type": "code",
   "execution_count": 1,
   "metadata": {},
   "outputs": [
    {
     "name": "stdout",
     "output_type": "stream",
     "text": [
      "Per Capita Energy Use in MJ is 73000\n",
      "World Energy Use in EJ is 562.1\n",
      "Global Power Use in TW is 17.824074074074076\n",
      "Global Energy Consumption is then 156138.88888888888 TW-hours= 562100000.0 TJ\n",
      "World ElectricityConsumption in Quads is 75.07109004739337\n",
      "Compare to 38 Quads in US in Fig 1.2\n",
      "Electric Power then is 2.554838709677419 TW\n",
      "Over one year, the sun deposits 5.455728e+18  GJ of energy to the Earths atmosphere\n",
      "Per person this is 708536103.8961039  MJ per year\n",
      "This is 9705.974025974025 times larger than human energy use\n",
      "1 kcal/mol= 0.043423096606596094 eV per molecule\n"
     ]
    }
   ],
   "source": [
    "%run energy.ipynb"
   ]
  },
  {
   "cell_type": "code",
   "execution_count": 2,
   "metadata": {},
   "outputs": [
    {
     "name": "stdout",
     "output_type": "stream",
     "text": [
      "Daily per capita energy use is 200.0 MJ\n"
     ]
    }
   ],
   "source": [
    "print('Daily per capita energy use is',73000/365.,'MJ')"
   ]
  },
  {
   "cell_type": "code",
   "execution_count": 2,
   "metadata": {},
   "outputs": [
    {
     "name": "stdout",
     "output_type": "stream",
     "text": [
      "energy in 1 mole of argon: 600K-300K 3741.3 J\n"
     ]
    }
   ],
   "source": [
    "## Exercise 5.1\n",
    "## Difference in thermal energy between one mole of argon at 300K and 600K\n",
    "mole = 6.022e23\n",
    "R=8.314 #J/mol/K\n",
    "con=R*1.5\n",
    "print('energy in 1 mole of argon: 600K-300K',con*300,'J')"
   ]
  },
  {
   "cell_type": "markdown",
   "metadata": {},
   "source": [
    "This is one percent of the atmosphere, which has a total mass of $5.15\\times 10^{18}$ kg; suppose that Argon was 1% in volume of this (it is actually 1\\% in mass, but there shouldn't be too much difference). Now 1 mole of Argon weighs 40 gms, so the total amount of moles of argon in the atmosphere is "
   ]
  },
  {
   "cell_type": "code",
   "execution_count": 6,
   "metadata": {},
   "outputs": [
    {
     "name": "stdout",
     "output_type": "stream",
     "text": [
      "1.2875e+18\n",
      "Therefore, heating the argon in the atmosphere by 1K would require  16.055125 EJ\n"
     ]
    }
   ],
   "source": [
    "print(5.15e16/0.04)\n",
    "print('Therefore, heating the argon in the atmosphere by 1K would require ',3741*5.15e16/0.04/300/1.e18,'EJ')\n"
   ]
  },
  {
   "cell_type": "code",
   "execution_count": 3,
   "metadata": {},
   "outputs": [
    {
     "name": "stdout",
     "output_type": "stream",
     "text": [
      "There are 2.6528928470050166e+22 particles\n",
      "The initial internal energy is 150.0 J\n",
      "The work done to condense the volume is 50.0 J\n",
      "The new internal energy is therefore 200.0 J\n",
      "The new temperature is therefore 364.2 K\n",
      "The new pressure is 266666.6666666667 Pa, up by a factor of 2.666666666666667\n",
      "When the temperature equilibrates to the outside temperature, the initial temperature, then the internal energy is back to the old value\n",
      "So the pressure is twice as big as initially ,but has dropped from its peak.\n"
     ]
    }
   ],
   "source": [
    "##Exercise 5.2\n",
    "liter = 1.e-3# m^3\n",
    "V=1*liter\n",
    "P=1.e5\n",
    "T=273.15\n",
    "kb=1.38e-23 # J/K\n",
    "N=P*V/(kb*T)\n",
    "cv=1.5*N*kb\n",
    "print('There are',N,'particles')\n",
    "U=1.5*N*kb*T #Ideal gas\n",
    "print('The initial internal energy is',U,'J')\n",
    "Work = P*V/2. # energy into the system\n",
    "print('The work done to condense the volume is',Work,'J')\n",
    "Unew=U+Work\n",
    "print('The new internal energy is therefore',Unew,'J')\n",
    "Tnew=Unew/(1.5*N*kb)\n",
    "print('The new temperature is therefore',Tnew,'K')\n",
    "print('The new pressure is',N*kb*Tnew*2/V,'Pa, up by a factor of',N*kb*Tnew*2/(V*P))\n",
    "print('When the temperature equilibrates to the outside temperature, the initial temperature, then the internal energy is back to the old value')\n",
    "print('So the pressure is twice as big as initially ,but has dropped from its peak.')"
   ]
  },
  {
   "cell_type": "code",
   "execution_count": 10,
   "metadata": {},
   "outputs": [
    {
     "name": "stdout",
     "output_type": "stream",
     "text": [
      "The energy needed to heat an 8 minute shower is 9501.8088 kJ\n"
     ]
    }
   ],
   "source": [
    "## Exercise 5.3\n",
    "# water starts at 283K and gets heated by 30K. Amonut of water is 9.5L/min. \n",
    "volume=9.5*1.e-3*8 # 8 minute shower in unit of m^3\n",
    "cp=4.18 # kJ/(kg*K) from Table 5.2\n",
    "density=997 # kg/m^3\n",
    "DeltaT=30\n",
    "U=cp*density*volume*DeltaT\n",
    "print('The energy needed to heat an 8 minute shower is',U,'kJ')"
   ]
  },
  {
   "cell_type": "code",
   "execution_count": 11,
   "metadata": {},
   "outputs": [
    {
     "name": "stdout",
     "output_type": "stream",
     "text": [
      "This is a fraction 0.047505 of the average daily per capita use.\n"
     ]
    }
   ],
   "source": [
    "print('This is a fraction',9501.e3/2.e8,'of the average daily per capita use.')"
   ]
  },
  {
   "cell_type": "code",
   "execution_count": 20,
   "metadata": {},
   "outputs": [
    {
     "name": "stdout",
     "output_type": "stream",
     "text": [
      "229.54091816367267\n",
      "The true value of cp is 6.075581395348837 times larger than this for water; this is lambda.\n",
      "So, there are a total of 18.22674418604651 degrees of freedom for the water molecule in liquid form at these Ts\n"
     ]
    },
    {
     "data": {
      "text/plain": [
       "18.173913043478258"
      ]
     },
     "execution_count": 20,
     "metadata": {},
     "output_type": "execute_result"
    }
   ],
   "source": [
    "# Understand the order of magnitude of cp\n",
    "# We expect U = 3/2 \\lambda N kb T, where \\lambda is some number greater than one. \n",
    "# We want cp in units of J/kg/ K so \n",
    "# U = cp m T = cp (m/m_water) m_water T = 3/2 \\lambda N kb T\n",
    "# where m_water is the mass of a water molecule and (m/m_water) = N, so\n",
    "# cp = 3/2\\lambda kb/m_water\n",
    "kb=1.38e-23 # J/K\n",
    "mwater=1.67e-27*18 # kg\n",
    "print(.5*kb/mwater)\n",
    "print('The true value of cp is',4.18/.688,'times larger than this for water; this is lambda.')\n",
    "print('So, there are a total of', 4.18/.688*3, 'degrees of freedom for the water molecule in liquid form at these Ts')\n",
    "4.18/.23"
   ]
  },
  {
   "cell_type": "markdown",
   "metadata": {},
   "source": [
    "Cleaning this up $c_P=N_D k_B/2m_{H_2O}$, which corresponds to $0.23 N_D$ kJ/kg/K. Therefore, $N_D=18$."
   ]
  },
  {
   "cell_type": "code",
   "execution_count": 5,
   "metadata": {},
   "outputs": [
    {
     "name": "stdout",
     "output_type": "stream",
     "text": [
      "Each helium atom deposits 1.863e-20 J after leaving the core.\n",
      "The power generated by each helium atom is therefore 2.07e-25 W\n",
      "So the number of He atoms needed is 4.0257648953301126e+30\n",
      "The amount of helium needed is 26731.078904991948 kg\n",
      "The mistake here is that I implicitly assumed \\Delta Q=1.5N\\DeltaT\n",
      "Instead using \\Delta Q = cp * mass * 900 gives 3.10752e-20 for each helium atom.\n",
      "This is a factor of 1.6680193236714975 larger than assumed before\n",
      "So the actual amount of helium needed is 16025.641025641025 kg\n"
     ]
    }
   ],
   "source": [
    "## Exercise 5.4\n",
    "power = 1.e8 #J/s\n",
    "efficiency=0.4\n",
    "power_needed=power/efficiency\n",
    "### how much energy does one helium atom deliver per second if it has U=1.5kT and ends with T=100K? It presumably deposits all\n",
    "### 900 into usuable energy.\n",
    "U_per_atom=1.5*kb*900\n",
    "print('Each helium atom deposits',U_per_atom,'J after leaving the core.')\n",
    "## This is in the time it takes to reach the turbine, which is 5 minutes=300s\n",
    "p_per_atom=U_per_atom/300\n",
    "print('The power generated by each helium atom is therefore',p_per_atom/300,'W')\n",
    "## The number of helium atoms required is therefore\n",
    "N=power_needed/p_per_atom\n",
    "print('So the number of He atoms needed is',N)\n",
    "#The mass of one helium is\n",
    "m=6.64e-27\n",
    "print('The amount of helium needed is',N*m,'kg')\n",
    "print('The mistake here is that I implicitly assumed \\Delta Q=1.5N\\DeltaT')\n",
    "print('Instead using \\Delta Q = cp * mass * 900 gives',5.2e3*m*900,'for each helium atom.')\n",
    "print('This is a factor of',5.2e3*m*900/U_per_atom,'larger than assumed before')\n",
    "print('So the actual amount of helium needed is',N*m/(5.2e3*m*900/U_per_atom),'kg')"
   ]
  },
  {
   "cell_type": "markdown",
   "metadata": {},
   "source": [
    "Instead of 3k_B/2, then, the heat capacity is 5/3 larger or 5k_B/2, meaning that two additional degrees of freedom are activated at these temperatures?"
   ]
  },
  {
   "cell_type": "markdown",
   "metadata": {},
   "source": [
    "$$q=k \\frac{T_0-T_1}{L}\n",
    ".$$\n",
    "For example, for glass, with $k=1$ W/mK; and the temperature inside $T_0=293$ and the temperature outside $T_1=273$ (freezing) and a window of thickness 5mm, we find "
   ]
  },
  {
   "cell_type": "code",
   "execution_count": 9,
   "metadata": {},
   "outputs": [
    {
     "name": "stdout",
     "output_type": "stream",
     "text": [
      "q= 4000.0 W/m^2\n",
      "0.005\n"
     ]
    }
   ],
   "source": [
    "q=20/.005\n",
    "print('q=',q,'W/m^2')\n",
    "L=5.e-3\n",
    "k=1. # W/m.K\n",
    "R=L/k # m^2K/W\n",
    "print(R)"
   ]
  },
  {
   "cell_type": "code",
   "execution_count": 12,
   "metadata": {},
   "outputs": [
    {
     "name": "stdout",
     "output_type": "stream",
     "text": [
      "129.03225806451613 3096.7741935483873\n"
     ]
    }
   ],
   "source": [
    "rtot=R+.12+.03\n",
    "deltaT=20\n",
    "print(deltaT/rtot,24*deltaT/rtot) # W/m^2"
   ]
  },
  {
   "cell_type": "markdown",
   "metadata": {},
   "source": [
    "So for a 1 m$^2$ window, the heat that escapes is 0.13 kW, and over the course of a day, this comes to 3 kW-hours"
   ]
  },
  {
   "cell_type": "code",
   "execution_count": 15,
   "metadata": {},
   "outputs": [
    {
     "data": {
      "text/plain": [
       "125.0"
      ]
     },
     "execution_count": 15,
     "metadata": {},
     "output_type": "execute_result"
    }
   ],
   "source": [
    "20/.16"
   ]
  },
  {
   "cell_type": "code",
   "execution_count": 22,
   "metadata": {},
   "outputs": [
    {
     "name": "stdout",
     "output_type": "stream",
     "text": [
      "45kW heating for one single family house would require 1419.12 GJ\n",
      "For 100 million single family houses, that translates to 141.912 EJ\n"
     ]
    }
   ],
   "source": [
    "print('45kW heating for one single family house would require',45000*3600*24*365/1.e9,'GJ')\n",
    "print(\"For 100 million single family houses, that translates to\",1.e8*45000*3600*24*365/1.e18,'EJ')"
   ]
  },
  {
   "cell_type": "code",
   "execution_count": 23,
   "metadata": {},
   "outputs": [
    {
     "data": {
      "text/plain": [
       "4.54"
      ]
     },
     "execution_count": 23,
     "metadata": {},
     "output_type": "execute_result"
    }
   ],
   "source": [
    ".2*22.7"
   ]
  },
  {
   "cell_type": "code",
   "execution_count": 25,
   "metadata": {},
   "outputs": [
    {
     "data": {
      "text/plain": [
       "0.3333333333333333"
      ]
     },
     "execution_count": 25,
     "metadata": {},
     "output_type": "execute_result"
    }
   ],
   "source": [
    "2*.03/.18"
   ]
  },
  {
   "cell_type": "code",
   "execution_count": null,
   "metadata": {},
   "outputs": [],
   "source": []
  }
 ],
 "metadata": {
  "kernelspec": {
   "display_name": "Python 3 (ipykernel)",
   "language": "python",
   "name": "python3"
  },
  "language_info": {
   "codemirror_mode": {
    "name": "ipython",
    "version": 3
   },
   "file_extension": ".py",
   "mimetype": "text/x-python",
   "name": "python",
   "nbconvert_exporter": "python",
   "pygments_lexer": "ipython3",
   "version": "3.9.5"
  }
 },
 "nbformat": 4,
 "nbformat_minor": 2
}
