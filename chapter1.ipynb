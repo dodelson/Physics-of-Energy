{
 "cells": [
  {
   "cell_type": "code",
   "execution_count": 1,
   "metadata": {},
   "outputs": [
    {
     "name": "stdout",
     "output_type": "stream",
     "text": [
      "Per Capita Energy Use in MJ is 73000\n",
      "World Energy Use in EJ is 562.1\n",
      "Global Power Use in TW is 17.824074074074076\n",
      "Global Energy Consumption is then 156138.88888888888 TW-hours= 562100000.0 TJ\n",
      "World ElectricityConsumption in Quads is 75.07109004739337\n",
      "Compare to 38 Quads in US in Fig 1.2\n",
      "Electric Power then is 2.554838709677419 TW\n",
      "Over one year, the sun deposits 5.455728e+18  GJ of energy to the Earths atmosphere\n",
      "Per person this is 708536103.8961039  MJ per year\n",
      "This is 9705.974025974025 times larger than human energy use\n",
      "1 kcal/mol= 0.043423096606596094 eV per molecule\n"
     ]
    }
   ],
   "source": [
    "%run energy.ipynb"
   ]
  },
  {
   "cell_type": "code",
   "execution_count": 2,
   "metadata": {},
   "outputs": [
    {
     "name": "stdout",
     "output_type": "stream",
     "text": [
      "A Gallon of gas has a mass of 3213.0 grams\n",
      "This corresponds to 37.36046511627907 moles\n",
      "Since each mole contains 6.02214076e+23 molecules, there are 2.2498997978930233e+25 gasoline molecules in a gallon of gas.\n"
     ]
    }
   ],
   "source": [
    "## estimate the energy in a gallon of gas = 3780 cm^3\n",
    "GasDensity=850 #kg/m^3 = 1.e3 g/(100)^3 cm^2 = 1.e-3 g/cm^3\n",
    "GasDensity/=1000. # now in g/cm^3\n",
    "GallonGas=GasDensity*3780 #in gram\n",
    "print('A Gallon of gas has a mass of',GallonGas,'grams')\n",
    "#the molar mass of C6H14 is 86 g/mole\n",
    "print('This corresponds to',GallonGas/86,'moles')\n",
    "print('Since each mole contains',avogadro,'molecules, there are',avogadro*GallonGas/86,'gasoline molecules in a gallon of gas.')"
   ]
  },
  {
   "cell_type": "code",
   "execution_count": 3,
   "metadata": {},
   "outputs": [
    {
     "name": "stdout",
     "output_type": "stream",
     "text": [
      "Each one of those has 6 Carbon atoms. Estimate that the binding energy is 6 times the carbon binding energy.\n",
      "That leads to an energy per molecule of 66.96000000000001 eV= 1.07136e-17 J\n",
      "So, the total energy in all those molecules is roughly 241.04526474706694 MJ\n"
     ]
    }
   ],
   "source": [
    "print('Each one of those has 6 Carbon atoms. Estimate that the binding energy is 6 times the carbon binding energy.')\n",
    "print('That leads to an energy per molecule of',6*carbon_bond,'eV=',ev*6*carbon_bond,'J')\n",
    "print('So, the total energy in all those molecules is roughly',ev*6*carbon_bond*avogadro*GallonGas/86/1.e6,'MJ')"
   ]
  },
  {
   "cell_type": "markdown",
   "metadata": {},
   "source": [
    "That is too high by a factor of 2, so the binding energy is a complex calcultion, for which 10 eV per carbon atom is good only to the factor of 2 level. A better guess is 5 eV per molecule or about 100 kcal/mol."
   ]
  },
  {
   "cell_type": "code",
   "execution_count": 8,
   "metadata": {},
   "outputs": [
    {
     "name": "stdout",
     "output_type": "stream",
     "text": [
      "Kinetic Energy is 0.6531356591999999 MJ\n"
     ]
    }
   ],
   "source": [
    "#Kinetic energy of car:\n",
    "mph = .447 #m/s\n",
    "pounds = .454 #kg\n",
    "v = 60*mph\n",
    "m = 4000*pounds\n",
    "print('Kinetic Energy is',0.5*m*v**2/1.e6, 'MJ')"
   ]
  },
  {
   "cell_type": "code",
   "execution_count": null,
   "metadata": {},
   "outputs": [],
   "source": []
  }
 ],
 "metadata": {
  "kernelspec": {
   "display_name": "Python 3",
   "language": "python",
   "name": "python3"
  },
  "language_info": {
   "codemirror_mode": {
    "name": "ipython",
    "version": 3
   },
   "file_extension": ".py",
   "mimetype": "text/x-python",
   "name": "python",
   "nbconvert_exporter": "python",
   "pygments_lexer": "ipython3",
   "version": "3.8.2"
  }
 },
 "nbformat": 4,
 "nbformat_minor": 2
}
