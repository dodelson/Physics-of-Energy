{
 "cells": [
  {
   "cell_type": "code",
   "execution_count": 1,
   "id": "editorial-dayton",
   "metadata": {},
   "outputs": [],
   "source": [
    "import numpy as np"
   ]
  },
  {
   "cell_type": "code",
   "execution_count": 57,
   "id": "trained-august",
   "metadata": {},
   "outputs": [],
   "source": [
    "#Units\n",
    "EJ=1.e12 #MJ\n",
    "TJ = 1.e6 #MJ\n",
    "TW= 1.e6 # MW\n",
    "Quad=1.055*EJ\n",
    "# Some Basic Number, from page 9\n",
    "DailyFoodIntake=10 #MJ\n",
    "DailyEnergyUse=200 # MJ again for humans, since they use a lot more energy than they consume\n",
    "Population=7.7e9"
   ]
  },
  {
   "cell_type": "code",
   "execution_count": 63,
   "id": "seeing-subcommittee",
   "metadata": {},
   "outputs": [
    {
     "name": "stdout",
     "output_type": "stream",
     "text": [
      "Per Capita Energy Use in MJ is 73000\n",
      "World Energy Use in EJ is 562.1\n",
      "Global Power Use in TW is 17.824074074074076\n",
      "Global Energy Consumption is then 156138.88888888888 TW-hours\n"
     ]
    }
   ],
   "source": [
    "# Box on Page 9 and Fig 1.3\n",
    "PerCapitaEnergy=DailyEnergyUse*365\n",
    "print('Per Capita Energy Use in MJ is',PerCapitaEnergy)\n",
    "YearlyEnergyUse=DailyEnergyUse*7.7e9*365\n",
    "print('World Energy Use in EJ is',YearlyEnergyUse/EJ)\n",
    "GlobalPowerUse=YearlyEnergyUse/(365*24*3600) #in MW=MJ/s\n",
    "print('Global Power Use in TW is',GlobalPowerUse/TJ)\n",
    "print('Global Energy Consumption is then',GlobalPowerUse*24*365/TW,'TW-hours')"
   ]
  },
  {
   "cell_type": "code",
   "execution_count": 59,
   "id": "increased-pearl",
   "metadata": {},
   "outputs": [
    {
     "name": "stdout",
     "output_type": "stream",
     "text": [
      "World ElectricityConsumption in Quads is 75.07109004739337\n",
      "Compare to 38 Quads in US in Fig 1.2\n",
      "Electric Power then is 2.554838709677419 TW\n"
     ]
    }
   ],
   "source": [
    "#Electricity consumption per capita in the world, from https://www.sciencedirect.com/topics/engineering/electricity-consumption\n",
    "ElectricityConsumption=22.e12  #kW-hours = 10^{-3} MW-hours = 1.e-3 MJ hours/sec \n",
    "print('World ElectricityConsumption in Quads is',ElectricityConsumption*1.e-3*3600/Quad)\n",
    "print('Compare to 38 Quads in US in Fig 1.2')\n",
    "print('Electric Power then is',ElectricityConsumption*1.e-3*3600/(3.1e7)/TW,'TW')"
   ]
  },
  {
   "cell_type": "code",
   "execution_count": 52,
   "id": "diverse-graph",
   "metadata": {},
   "outputs": [
    {
     "name": "stdout",
     "output_type": "stream",
     "text": [
      "Over one year, the sun deposits 5.455728e+18  GJ of energy to the Earths atmosphere\n",
      "Per person this is 708536103.8961039  MJ per year\n",
      "This is 9705.974025974025 times larger than human energy use\n"
     ]
    }
   ],
   "source": [
    "# Sources of Energy\n",
    "Solar=173000. #TW at the top of the atmosphere\n",
    "SolarPerYear=Solar*TW*365*24*3600  # now in MJ\n",
    "print('Over one year, the sun deposits',SolarPerYear,' GJ of energy to the Earths atmosphere')\n",
    "print('Per person this is',SolarPerYear/Population,' MJ per year')\n",
    "print('This is',SolarPerYear/Population/PerCapitaEnergy,'times larger than human energy use')"
   ]
  },
  {
   "cell_type": "markdown",
   "id": "excess-egypt",
   "metadata": {},
   "source": [
    "Capacity Factor is the ratio of actual averaged power output of a plant to its maximum output."
   ]
  },
  {
   "cell_type": "markdown",
   "id": "crude-problem",
   "metadata": {},
   "source": [
    "28: Wind Energy. A TW of installed capacity yields 20% of that because of the capacity factor, so 0.2 TW. That is about 10% of all electricity used in the world. A TW is not crazy becuase capacity reached 432 GW by 2015 and 651 GW in 2019. "
   ]
  }
 ],
 "metadata": {
  "kernelspec": {
   "display_name": "Python 3",
   "language": "python",
   "name": "python3"
  },
  "language_info": {
   "codemirror_mode": {
    "name": "ipython",
    "version": 3
   },
   "file_extension": ".py",
   "mimetype": "text/x-python",
   "name": "python",
   "nbconvert_exporter": "python",
   "pygments_lexer": "ipython3",
   "version": "3.8.2"
  }
 },
 "nbformat": 4,
 "nbformat_minor": 5
}
